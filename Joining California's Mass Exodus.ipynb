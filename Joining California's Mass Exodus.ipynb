{
    "cells": [
        {
            "cell_type": "markdown",
            "metadata": {},
            "source": "# Joining California's Mass Exodus"
        },
        {
            "cell_type": "markdown",
            "metadata": {},
            "source": "### Introduction"
        },
        {
            "cell_type": "markdown",
            "metadata": {
                "collapsed": true
            },
            "source": "The Great Migration out of California, between 2008 and 2019, more than 18,000 companies have left Califrornia for more tax and regulatory friendly states.Major companies that have moved their headquiarters out of California in recent years are relocating mostly to Texas, followed by Nevada, Arizona, Colorado, Oregon, and Washington. For example, big companies like Tesla and Oracle are changing their corporate headquarters to Austin, Texas. In the near future, more companies will be a part of this migration due to anti-bussiness laws and regularions passed catching up. Other reasons why California became a less favorable place to live in is because of the high taxes (13% state income tax), high housing costs, cost of living in California is about 50 percent higher than the median. Additionally, with the flexibility from remote work rise in 2020, people are willing to leave the Golden State despite a pay cut.\n\nWith the consideration of moving out of California, it is important to first explore potential relocating neighborhood, comparing similarity and dissimilarity to the currently resided neighborhood. Downtown San Jose in San Jose, California. For the simplicity of this project, Austin, TX will be chosen for comparison. By applying methods and techniques learned from this data science course, we wish to find the most optimal relocation spot to continue the journey of chasing the American dream."
        },
        {
            "cell_type": "markdown",
            "metadata": {},
            "source": "### Data Description"
        },
        {
            "cell_type": "markdown",
            "metadata": {},
            "source": "Importing libraries to help us looking at the data. Code is directly imported from previous exercise with changes in installing geopy and folium."
        },
        {
            "cell_type": "code",
            "execution_count": 1,
            "metadata": {},
            "outputs": [
                {
                    "name": "stdout",
                    "output_type": "stream",
                    "text": "Requirement already satisfied: geopy in /opt/conda/envs/Python-3.7-main/lib/python3.7/site-packages (2.0.0)\nRequirement already satisfied: geographiclib<2,>=1.49 in /opt/conda/envs/Python-3.7-main/lib/python3.7/site-packages (from geopy) (1.50)\nRequirement already satisfied: folium in /opt/conda/envs/Python-3.7-main/lib/python3.7/site-packages (0.12.1)\nRequirement already satisfied: numpy in /opt/conda/envs/Python-3.7-main/lib/python3.7/site-packages (from folium) (1.18.5)\nRequirement already satisfied: jinja2>=2.9 in /opt/conda/envs/Python-3.7-main/lib/python3.7/site-packages (from folium) (2.11.2)\nRequirement already satisfied: branca>=0.3.0 in /opt/conda/envs/Python-3.7-main/lib/python3.7/site-packages (from folium) (0.4.2)\nRequirement already satisfied: requests in /opt/conda/envs/Python-3.7-main/lib/python3.7/site-packages (from folium) (2.24.0)\nRequirement already satisfied: MarkupSafe>=0.23 in /opt/conda/envs/Python-3.7-main/lib/python3.7/site-packages (from jinja2>=2.9->folium) (1.1.1)\nRequirement already satisfied: chardet<4,>=3.0.2 in /opt/conda/envs/Python-3.7-main/lib/python3.7/site-packages (from requests->folium) (3.0.4)\nRequirement already satisfied: urllib3!=1.25.0,!=1.25.1,<1.26,>=1.21.1 in /opt/conda/envs/Python-3.7-main/lib/python3.7/site-packages (from requests->folium) (1.25.9)\nRequirement already satisfied: certifi>=2017.4.17 in /opt/conda/envs/Python-3.7-main/lib/python3.7/site-packages (from requests->folium) (2020.12.5)\nRequirement already satisfied: idna<3,>=2.5 in /opt/conda/envs/Python-3.7-main/lib/python3.7/site-packages (from requests->folium) (2.9)\nLibraries imported.\n"
                }
            ],
            "source": "import numpy as np # library to handle data in a vectorized manner\n\nimport pandas as pd # library for data analsysis\npd.set_option('display.max_columns', None)\npd.set_option('display.max_rows', None)\n\nimport json # library to handle JSON files\n\n!pip install geopy # uncomment this line if you haven't completed the Foursquare API lab\nfrom geopy.geocoders import Nominatim # convert an address into latitude and longitude values\n\nimport requests # library to handle requests\nfrom pandas.io.json import json_normalize # tranform JSON file into a pandas dataframe\n\n# Matplotlib and associated plotting modules\nimport matplotlib.cm as cm\nimport matplotlib.colors as colors\n\n# import k-means from clustering stage\nfrom sklearn.cluster import KMeans\n\n!pip install folium # uncomment this line if you haven't completed the Foursquare API lab\nimport folium # map rendering library\n\nprint('Libraries imported.')"
        },
        {
            "cell_type": "markdown",
            "metadata": {},
            "source": "We first collect the geographical coordinates for San Jose,CA and Austin, TX."
        },
        {
            "cell_type": "code",
            "execution_count": 2,
            "metadata": {},
            "outputs": [
                {
                    "name": "stdout",
                    "output_type": "stream",
                    "text": "San Jose, CA coordinates are 37.3361905, -121.890583\nAustin, TX's coordinates are 30.2711286, -97.7436995\n"
                }
            ],
            "source": "addressFrom = 'San Jose, CA'\naddressTo = 'Austin, TX'\n\ngeolocator = Nominatim(user_agent='my_email@myserver.com')\nlocationFrom = geolocator.geocode(addressFrom)\nlocationTo = geolocator.geocode(addressTo)\nlatitudeFrom = locationFrom.latitude\nlongitudeFrom = locationFrom.longitude\nlatitudeTo = locationTo.latitude\nlongitudeTo = locationTo.longitude\nprint(f'San Jose, CA coordinates are {latitudeFrom}, {longitudeFrom}')\nprint(f\"Austin, TX's coordinates are {latitudeTo}, {longitudeTo}\")"
        },
        {
            "cell_type": "markdown",
            "metadata": {},
            "source": "Downtown San Jose's coordinate can be hardcoded"
        },
        {
            "cell_type": "code",
            "execution_count": 3,
            "metadata": {},
            "outputs": [],
            "source": "dt_sj_lat = 37.3337\ndt_sj_lng = -121.8907"
        },
        {
            "cell_type": "markdown",
            "metadata": {},
            "source": "Neighborhood data for Austin, TX can be obtained from the Housing and Planning Department of the Austin City Government (https://jovian.ai/outlink?url=https%3A%2F%2Fdata.austintexas.gov%2FBuilding-and-Development%2FNeighborhoods%2Fa7ap-j2yt%3B)\nThis dataset is exported as csv format and included as asset in this project folder. includes "
        },
        {
            "cell_type": "code",
            "execution_count": 4,
            "metadata": {},
            "outputs": [
                {
                    "data": {
                        "text/html": "<div>\n<style scoped>\n    .dataframe tbody tr th:only-of-type {\n        vertical-align: middle;\n    }\n\n    .dataframe tbody tr th {\n        vertical-align: top;\n    }\n\n    .dataframe thead th {\n        text-align: right;\n    }\n</style>\n<table border=\"1\" class=\"dataframe\">\n  <thead>\n    <tr style=\"text-align: right;\">\n      <th></th>\n      <th>the_geom</th>\n      <th>FID</th>\n      <th>TARGET_FID</th>\n      <th>NEIGHNAME</th>\n      <th>SqMiles</th>\n      <th>Shape_Leng</th>\n      <th>Shape__Area</th>\n      <th>Shape__Length</th>\n    </tr>\n  </thead>\n  <tbody>\n    <tr>\n      <th>0</th>\n      <td>MULTIPOLYGON (((-97.792307359674 30.4567073495...</td>\n      <td>3</td>\n      <td>3</td>\n      <td>ANDERSON MILL</td>\n      <td>8.669086</td>\n      <td>154458.205390</td>\n      <td>2.416802e+08</td>\n      <td>154458.205390</td>\n    </tr>\n    <tr>\n      <th>1</th>\n      <td>MULTIPOLYGON (((-97.670762852964 30.3085399639...</td>\n      <td>95</td>\n      <td>95</td>\n      <td>WINDSOR PARK</td>\n      <td>2.383074</td>\n      <td>40527.378654</td>\n      <td>6.643628e+07</td>\n      <td>40527.378654</td>\n    </tr>\n    <tr>\n      <th>2</th>\n      <td>MULTIPOLYGON (((-97.753526659646 30.2387648363...</td>\n      <td>19</td>\n      <td>19</td>\n      <td>DAWSON</td>\n      <td>0.495535</td>\n      <td>17697.924998</td>\n      <td>1.381473e+07</td>\n      <td>17697.924998</td>\n    </tr>\n    <tr>\n      <th>3</th>\n      <td>MULTIPOLYGON (((-97.738154269236 30.3027463827...</td>\n      <td>91</td>\n      <td>91</td>\n      <td>WEST UNIVERSITY</td>\n      <td>0.738442</td>\n      <td>24981.044476</td>\n      <td>2.058658e+07</td>\n      <td>24981.044476</td>\n    </tr>\n    <tr>\n      <th>4</th>\n      <td>MULTIPOLYGON (((-97.682624533084 30.2858668623...</td>\n      <td>49</td>\n      <td>49</td>\n      <td>MLK</td>\n      <td>1.545283</td>\n      <td>33470.415430</td>\n      <td>4.308001e+07</td>\n      <td>33470.415430</td>\n    </tr>\n  </tbody>\n</table>\n</div>",
                        "text/plain": "                                            the_geom  FID  TARGET_FID  \\\n0  MULTIPOLYGON (((-97.792307359674 30.4567073495...    3           3   \n1  MULTIPOLYGON (((-97.670762852964 30.3085399639...   95          95   \n2  MULTIPOLYGON (((-97.753526659646 30.2387648363...   19          19   \n3  MULTIPOLYGON (((-97.738154269236 30.3027463827...   91          91   \n4  MULTIPOLYGON (((-97.682624533084 30.2858668623...   49          49   \n\n         NEIGHNAME   SqMiles     Shape_Leng   Shape__Area  Shape__Length  \n0    ANDERSON MILL  8.669086  154458.205390  2.416802e+08  154458.205390  \n1     WINDSOR PARK  2.383074   40527.378654  6.643628e+07   40527.378654  \n2           DAWSON  0.495535   17697.924998  1.381473e+07   17697.924998  \n3  WEST UNIVERSITY  0.738442   24981.044476  2.058658e+07   24981.044476  \n4              MLK  1.545283   33470.415430  4.308001e+07   33470.415430  "
                    },
                    "execution_count": 4,
                    "metadata": {},
                    "output_type": "execute_result"
                }
            ],
            "source": "# The code was removed by Watson Studio for sharing."
        },
        {
            "cell_type": "code",
            "execution_count": 5,
            "metadata": {},
            "outputs": [
                {
                    "data": {
                        "text/plain": "(103, 8)"
                    },
                    "execution_count": 5,
                    "metadata": {},
                    "output_type": "execute_result"
                }
            ],
            "source": "df_Austin.shape"
        },
        {
            "cell_type": "markdown",
            "metadata": {},
            "source": "Drop irrelavent data"
        },
        {
            "cell_type": "code",
            "execution_count": 6,
            "metadata": {},
            "outputs": [
                {
                    "data": {
                        "text/html": "<div>\n<style scoped>\n    .dataframe tbody tr th:only-of-type {\n        vertical-align: middle;\n    }\n\n    .dataframe tbody tr th {\n        vertical-align: top;\n    }\n\n    .dataframe thead th {\n        text-align: right;\n    }\n</style>\n<table border=\"1\" class=\"dataframe\">\n  <thead>\n    <tr style=\"text-align: right;\">\n      <th></th>\n      <th>the_geom</th>\n      <th>NEIGHNAME</th>\n    </tr>\n  </thead>\n  <tbody>\n    <tr>\n      <th>0</th>\n      <td>MULTIPOLYGON (((-97.792307359674 30.4567073495...</td>\n      <td>ANDERSON MILL</td>\n    </tr>\n    <tr>\n      <th>1</th>\n      <td>MULTIPOLYGON (((-97.670762852964 30.3085399639...</td>\n      <td>WINDSOR PARK</td>\n    </tr>\n    <tr>\n      <th>2</th>\n      <td>MULTIPOLYGON (((-97.753526659646 30.2387648363...</td>\n      <td>DAWSON</td>\n    </tr>\n    <tr>\n      <th>3</th>\n      <td>MULTIPOLYGON (((-97.738154269236 30.3027463827...</td>\n      <td>WEST UNIVERSITY</td>\n    </tr>\n    <tr>\n      <th>4</th>\n      <td>MULTIPOLYGON (((-97.682624533084 30.2858668623...</td>\n      <td>MLK</td>\n    </tr>\n  </tbody>\n</table>\n</div>",
                        "text/plain": "                                            the_geom        NEIGHNAME\n0  MULTIPOLYGON (((-97.792307359674 30.4567073495...    ANDERSON MILL\n1  MULTIPOLYGON (((-97.670762852964 30.3085399639...     WINDSOR PARK\n2  MULTIPOLYGON (((-97.753526659646 30.2387648363...           DAWSON\n3  MULTIPOLYGON (((-97.738154269236 30.3027463827...  WEST UNIVERSITY\n4  MULTIPOLYGON (((-97.682624533084 30.2858668623...              MLK"
                    },
                    "execution_count": 6,
                    "metadata": {},
                    "output_type": "execute_result"
                }
            ],
            "source": "df_Austin.drop(['FID', 'TARGET_FID', 'SqMiles','Shape_Leng', 'Shape__Area', 'Shape__Length'],axis=1, inplace=True)\ndf_Austin.head()"
        },
        {
            "cell_type": "markdown",
            "metadata": {},
            "source": "This dataframe contains 103 neighborhood's data. The coordinate data is still missing from this dataset. The coordinate will be obtained from geopy.\n"
        },
        {
            "cell_type": "code",
            "execution_count": 7,
            "metadata": {
                "scrolled": true
            },
            "outputs": [
                {
                    "data": {
                        "text/html": "<div>\n<style scoped>\n    .dataframe tbody tr th:only-of-type {\n        vertical-align: middle;\n    }\n\n    .dataframe tbody tr th {\n        vertical-align: top;\n    }\n\n    .dataframe thead th {\n        text-align: right;\n    }\n</style>\n<table border=\"1\" class=\"dataframe\">\n  <thead>\n    <tr style=\"text-align: right;\">\n      <th></th>\n      <th>the_geom</th>\n      <th>NEIGHNAME</th>\n      <th>LAT</th>\n      <th>LNG</th>\n    </tr>\n  </thead>\n  <tbody>\n    <tr>\n      <th>0</th>\n      <td>MULTIPOLYGON (((-97.792307359674 30.4567073495...</td>\n      <td>ANDERSON MILL</td>\n      <td>None</td>\n      <td>None</td>\n    </tr>\n    <tr>\n      <th>1</th>\n      <td>MULTIPOLYGON (((-97.670762852964 30.3085399639...</td>\n      <td>WINDSOR PARK</td>\n      <td>None</td>\n      <td>None</td>\n    </tr>\n    <tr>\n      <th>2</th>\n      <td>MULTIPOLYGON (((-97.753526659646 30.2387648363...</td>\n      <td>DAWSON</td>\n      <td>None</td>\n      <td>None</td>\n    </tr>\n    <tr>\n      <th>3</th>\n      <td>MULTIPOLYGON (((-97.738154269236 30.3027463827...</td>\n      <td>WEST UNIVERSITY</td>\n      <td>None</td>\n      <td>None</td>\n    </tr>\n    <tr>\n      <th>4</th>\n      <td>MULTIPOLYGON (((-97.682624533084 30.2858668623...</td>\n      <td>MLK</td>\n      <td>None</td>\n      <td>None</td>\n    </tr>\n  </tbody>\n</table>\n</div>",
                        "text/plain": "                                            the_geom        NEIGHNAME   LAT  \\\n0  MULTIPOLYGON (((-97.792307359674 30.4567073495...    ANDERSON MILL  None   \n1  MULTIPOLYGON (((-97.670762852964 30.3085399639...     WINDSOR PARK  None   \n2  MULTIPOLYGON (((-97.753526659646 30.2387648363...           DAWSON  None   \n3  MULTIPOLYGON (((-97.738154269236 30.3027463827...  WEST UNIVERSITY  None   \n4  MULTIPOLYGON (((-97.682624533084 30.2858668623...              MLK  None   \n\n    LNG  \n0  None  \n1  None  \n2  None  \n3  None  \n4  None  "
                    },
                    "execution_count": 7,
                    "metadata": {},
                    "output_type": "execute_result"
                }
            ],
            "source": "df_Austin['LAT'] = None\ndf_Austin['LNG'] = None\ndf_Austin.head()"
        },
        {
            "cell_type": "code",
            "execution_count": null,
            "metadata": {
                "scrolled": false
            },
            "outputs": [
                {
                    "name": "stdout",
                    "output_type": "stream",
                    "text": "DITTMAR--SLAUGHTER has wrong name\nMANSFIELD--RIVER PLACE has wrong name\nRMMA has wrong name\nHAYS WARTHA has wrong name\nVILLAGE AT WESTERN OAKS has wrong name\nDEL VALLE has wrong name\nROBINSON RANCH has wrong name\nDEL VALLE EAST has wrong name\nUPPER BOGGY CREEK has wrong name\n"
                }
            ],
            "source": "austin_gmaps = Nominatim(user_agent='TX_explore')\nfor neighborhood in df_Austin['NEIGHNAME']:\n    neighborhood_address = neighborhood + ' Austin, TX'\n    try:\n        location = austin_gmaps.geocode(neighborhood_address)\n        df_Austin['LAT'].loc[df_Austin['NEIGHNAME'] == neighborhood] = location.latitude\n        df_Austin['LNG'].loc[df_Austin['NEIGHNAME'] == neighborhood] = location.longitude\n        #print(neighborhood, location.latitude, location.longitude)\n    except:\n        print(neighborhood + \" has wrong name\")"
        },
        {
            "cell_type": "markdown",
            "metadata": {},
            "source": "Some neighborhoods' name are incorrect, they will be ignored."
        },
        {
            "cell_type": "code",
            "execution_count": null,
            "metadata": {},
            "outputs": [],
            "source": "df_Austin.dropna(inplace=True)"
        },
        {
            "cell_type": "markdown",
            "metadata": {},
            "source": "To further clean the dataframe, first column is removed"
        },
        {
            "cell_type": "code",
            "execution_count": null,
            "metadata": {},
            "outputs": [],
            "source": "df_Austin.drop(['the_geom'],axis=1,inplace=True)\ndf_Austin"
        },
        {
            "cell_type": "code",
            "execution_count": null,
            "metadata": {},
            "outputs": [],
            "source": "df_Austin.shape"
        },
        {
            "cell_type": "markdown",
            "metadata": {},
            "source": "89 neighborhoods remaining. Let's visualize where all these neighborhood are located."
        },
        {
            "cell_type": "code",
            "execution_count": null,
            "metadata": {},
            "outputs": [],
            "source": "map_Austin = folium.Map(location=[latitudeTo, longitudeTo], zoom_start=11)\n\nfor lat, lng, label in zip(df_Austin['LAT'], df_Austin['LNG'], df_Austin['NEIGHNAME']):\n    label = folium.Popup(label, parse_html=True)\n    folium.CircleMarker(\n        [lat,lng],\n        radius=5,\n        popup=label,\n        color='blue',\n        fill=True,\n        fill_color='#3186cc',\n        fill_opacity=0.7,\n        parse_html=False).add_to(map_Austin)\n    \nmap_Austin"
        },
        {
            "cell_type": "markdown",
            "metadata": {},
            "source": "After the geographical data are prepared, Foursquare API is used to explore venus within reasonable walking distance, 1km"
        },
        {
            "cell_type": "code",
            "execution_count": null,
            "metadata": {},
            "outputs": [],
            "source": "# The code was removed by Watson Studio for sharing."
        },
        {
            "cell_type": "code",
            "execution_count": null,
            "metadata": {},
            "outputs": [],
            "source": "VERSION = '20180605'\nLIMIT = 100"
        },
        {
            "cell_type": "markdown",
            "metadata": {},
            "source": "Let's explore Downtown San jose, getting the top 100 venues that are within a radius of 1km."
        },
        {
            "cell_type": "markdown",
            "metadata": {},
            "source": "Creating GET request URL"
        },
        {
            "cell_type": "code",
            "execution_count": null,
            "metadata": {},
            "outputs": [],
            "source": "LIMIT = 100\nradius = 1000\nurl = 'https://api.foursquare.com/v2/venues/explore?&client_id={}&client_secret={}&v={}&ll={},{}&radius={}&limit={}'.format(\n    CLIENT_ID, \n    CLIENT_SECRET, \n    VERSION, \n    dt_sj_lat, \n    dt_sj_lng, \n    radius, \n    LIMIT)"
        },
        {
            "cell_type": "markdown",
            "metadata": {},
            "source": "Look at the GET request results"
        },
        {
            "cell_type": "code",
            "execution_count": null,
            "metadata": {},
            "outputs": [],
            "source": "dt_sj_results = requests.get(url).json()\ndt_sj_results"
        },
        {
            "cell_type": "markdown",
            "metadata": {},
            "source": "Extracting catgory of the venus"
        },
        {
            "cell_type": "code",
            "execution_count": null,
            "metadata": {},
            "outputs": [],
            "source": "# function that extracts the category of the venue\ndef get_category_type(row):\n    try:\n        categories_list = row['categories']\n    except:\n        categories_list = row['venue.categories']\n        \n    if len(categories_list) == 0:\n        return None\n    else:\n        return categories_list[0]['name']"
        },
        {
            "cell_type": "markdown",
            "metadata": {},
            "source": "Clean data and put into pandas dataframe"
        },
        {
            "cell_type": "code",
            "execution_count": null,
            "metadata": {},
            "outputs": [],
            "source": "dt_sj_venues = dt_sj_results['response']['groups'][0]['items']\n    \ndt_sj_nearby_venues = json_normalize(dt_sj_venues) # flatten JSON\n\n# filter columns\ndt_sj_filtered_columns = ['venue.name', 'venue.categories', 'venue.location.lat', 'venue.location.lng']\ndt_sj_nearby_venues =dt_sj_nearby_venues.loc[:, dt_sj_filtered_columns]\n\n# filter the category for each row\ndt_sj_nearby_venues['venue.categories'] = dt_sj_nearby_venues.apply(get_category_type, axis=1)\n\n# clean columns\ndt_sj_nearby_venues.columns = [col.split(\".\")[-1] for col in dt_sj_nearby_venues.columns]\n\ndt_sj_nearby_venues.head()"
        },
        {
            "cell_type": "markdown",
            "metadata": {},
            "source": "Same will be done on the first neighborhood in Austin, Anderson Mill"
        },
        {
            "cell_type": "code",
            "execution_count": null,
            "metadata": {},
            "outputs": [],
            "source": "anderson_mill_lat = df_Austin['LAT'].iloc[0]\nanderson_mill_lng = df_Austin['LNG'].iloc[0]\nurl = 'https://api.foursquare.com/v2/venues/explore?&client_id={}&client_secret={}&v={}&ll={},{}&radius={}&limit={}'.format(\n    CLIENT_ID, \n    CLIENT_SECRET, \n    VERSION, \n    anderson_mill_lat, \n    anderson_mill_lng, \n    radius, \n    LIMIT)"
        },
        {
            "cell_type": "code",
            "execution_count": null,
            "metadata": {},
            "outputs": [],
            "source": "anderson_mill_results = requests.get(url).json()\nanderson_mill_results"
        },
        {
            "cell_type": "code",
            "execution_count": null,
            "metadata": {},
            "outputs": [],
            "source": "anderson_mill_venues = anderson_mill_results['response']['groups'][0]['items']\n    \nanderson_mill_nearby_venues = json_normalize(anderson_mill_venues) # flatten JSON\n\n# filter columns\nanderson_mill_filtered_columns = ['venue.name', 'venue.categories', 'venue.location.lat', 'venue.location.lng']\nanderson_mill_nearby_venues =anderson_mill_nearby_venues.loc[:, anderson_mill_filtered_columns]\n\n# filter the category for each row\nanderson_mill_nearby_venues['venue.categories'] = anderson_mill_nearby_venues.apply(get_category_type, axis=1)\n\n# clean columns\nanderson_mill_nearby_venues.columns = [col.split(\".\")[-1] for col in anderson_mill_nearby_venues.columns]\n\nanderson_mill_nearby_venues.head()"
        },
        {
            "cell_type": "markdown",
            "metadata": {},
            "source": "This is an example of the data used in the analysis in the next section. Downtown San Jose's venue data will be listed out by top 10 venus. >br>\nOther neighborhoods in Austin will perform the same action, clusting will be added to group similar neighborhood together. "
        },
        {
            "cell_type": "code",
            "execution_count": null,
            "metadata": {},
            "outputs": [],
            "source": ""
        }
    ],
    "metadata": {
        "kernelspec": {
            "display_name": "Python 3.7",
            "language": "python",
            "name": "python3"
        },
        "language_info": {
            "codemirror_mode": {
                "name": "ipython",
                "version": 3
            },
            "file_extension": ".py",
            "mimetype": "text/x-python",
            "name": "python",
            "nbconvert_exporter": "python",
            "pygments_lexer": "ipython3",
            "version": "3.7.9"
        }
    },
    "nbformat": 4,
    "nbformat_minor": 1
}